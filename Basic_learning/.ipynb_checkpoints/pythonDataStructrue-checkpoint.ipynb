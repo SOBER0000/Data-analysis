{
 "cells": [
  {
   "cell_type": "code",
   "execution_count": 1,
   "metadata": {},
   "outputs": [
    {
     "name": "stdout",
     "output_type": "stream",
     "text": [
      "<class 'int'>\n",
      "output: 10\n"
     ]
    }
   ],
   "source": [
    "# 整数\n",
    "x = 10\n",
    "print(type(x))\n",
    "print(\"output: {0}\".format(x))"
   ]
  },
  {
   "cell_type": "code",
   "execution_count": 2,
   "metadata": {},
   "outputs": [
    {
     "name": "stdout",
     "output_type": "stream",
     "text": [
      "<class 'float'>\n",
      "output: 3.074074\n"
     ]
    }
   ],
   "source": [
    "# 浮点数\n",
    "x = 8.3/2.7\n",
    "print(type(x))\n",
    "print(\"output: {0:.6f}\".format(x))"
   ]
  },
  {
   "cell_type": "code",
   "execution_count": 3,
   "metadata": {},
   "outputs": [
    {
     "name": "stdout",
     "output_type": "stream",
     "text": [
      "output:20.0855\n",
      "output:1.00\n",
      "output:1.00\n",
      "output:9.0\n"
     ]
    }
   ],
   "source": [
    "from math import exp,log,sqrt\n",
    "# exp(x):e的x次方（e:2.718281）\n",
    "print(\"output:{0:.4f}\".format(exp(3)))\n",
    "# log(x,base): base可以设置为2、10等，表示对数的底数，默认为e（e:2.718281），自然对数\n",
    "print(\"output:{0:.2f}\".format(log(2.718281)))\n",
    "# 常用对数（lg(x)：以10为底数的对数）\n",
    "print(\"output:{0:.2f}\".format(log(10,10)))\n",
    "# 平方根\n",
    "print(\"output:{0:.1f}\".format(sqrt(81)))"
   ]
  },
  {
   "cell_type": "code",
   "execution_count": 15,
   "metadata": {},
   "outputs": [
    {
     "name": "stdout",
     "output_type": "stream",
     "text": [
      "output#1: I'm enjoy leaning python.\n",
      "output#2: This is a long string. whithout the backlashdiffculty to read and edit. By using the backlash you can split the longstring into smaller strings on separate lines so that the whole string is easyto view in the text editor.\n",
      "output#3: you can use triple single quotes \n",
      "for multi-lines comment strings.\n",
      "output#4: You can also us triple double quotes\n",
      "for multi-line comment strings.\n"
     ]
    }
   ],
   "source": [
    "# 字符串\n",
    "print(\"output#1: {0:s}\".format('I\\'m enjoy leaning python.'))\n",
    "\n",
    "print(\"output#2: {0:s}\".format(\"This is a long string. whithout the backlash\\\n",
    "diffculty to read and edit. By using the backlash you can split the long\\\n",
    "string into smaller strings on separate lines so that the whole string is easy\\\n",
    "to view in the text editor.\"))\n",
    "\n",
    "print(\"output#3: {0:s}\".format('''you can use triple single quotes \n",
    "for multi-lines comment strings.'''))\n",
    "\n",
    "print(\"output#4: {0:s}\".format(\"\"\"You can also us triple double quotes\n",
    "for multi-line comment strings.\"\"\"))"
   ]
  },
  {
   "cell_type": "code",
   "execution_count": 16,
   "metadata": {},
   "outputs": [
    {
     "name": "stdout",
     "output_type": "stream",
     "text": [
      "sentence:This is a short string.\n",
      "output: She is very very very very beautiful.\n",
      "length:23\n"
     ]
    }
   ],
   "source": [
    "# 合并字符串\n",
    "string1 = \"This is a \"\n",
    "string2 = \"short string.\"\n",
    "sentence = string1 + string2\n",
    "print(\"sentence:{0:s}\".format(sentence))\n",
    "print(\"output: {0:s} {1:s}{2:s}\".format(\"She is\", \"very \"*4, \"beautiful.\"))\n",
    "length = len(sentence)\n",
    "print(\"length:{0:d}\".format(length))"
   ]
  },
  {
   "cell_type": "code",
   "execution_count": 17,
   "metadata": {},
   "outputs": [
    {
     "name": "stdout",
     "output_type": "stream",
     "text": [
      "['I', 'enjoy', 'leaning', 'python.']\n",
      "['I', 'enjoy', 'leaning python.']\n",
      "['red', 'white', 'black', 'blue', 'green']\n"
     ]
    }
   ],
   "source": [
    "# 字符串分割\n",
    "string3 = \"I enjoy leaning python.\"\n",
    "# split函数默认以空格分割字符串\n",
    "str = string3.split()\n",
    "print(str)\n",
    "# split函数设置拆分次数\n",
    "str1 = string3.split(\" \", 2)\n",
    "print(str1)\n",
    "string4 = \"red,white,black,blue,green\"\n",
    "# split函数设置以逗号为分割符\n",
    "str_1 = string4.split(\",\")\n",
    "print(str_1)"
   ]
  },
  {
   "cell_type": "code",
   "execution_count": 18,
   "metadata": {},
   "outputs": [
    {
     "name": "stdout",
     "output_type": "stream",
     "text": [
      "['I', 'like', 'studying', 'python.']\n",
      "I like studying python.\n"
     ]
    }
   ],
   "source": [
    "# join函数：在子字符之间插入特定字符组成新字符串\n",
    "stringList = ['I', 'like', 'studying', 'python.']\n",
    "print(stringList)\n",
    "# 将列表元素之间穿插空格，组成一段英文表达式\n",
    "string = \" \".join(stringList)\n",
    "print(string)"
   ]
  },
  {
   "cell_type": "code",
   "execution_count": 19,
   "metadata": {},
   "outputs": [
    {
     "name": "stdout",
     "output_type": "stream",
     "text": [
      "string5: Remove unwanted characters   from this string\t\t  \n",
      "\n",
      "string5_lstrip:Remove unwanted characters   from this string\t\t  \n",
      "\n",
      "string5_rstrip: Remove unwanted characters   from this string\n",
      "string5_strip:Remove unwanted characters   from this string\n",
      "string6: $$Here's another string that has unwanted characters.__--++\n",
      "string6_strip: Here's another string that has unwanted characters.\n"
     ]
    }
   ],
   "source": [
    "# lstrip rstrip strip函数：从字符串两端删除字符\n",
    "string5 = \" Remove unwanted characters   from this string\\t\\t  \\n\"\n",
    "print(\"string5:{0:s}\".format(string5))\n",
    "# lstrip: 函数从左侧删除空格字符\n",
    "string5_lstrip = string5.lstrip()\n",
    "print(\"string5_lstrip:{0:s}\".format(string5_lstrip))\n",
    "# rstrip:从右侧删除空格字符\n",
    "string5_rstrip = string5.rstrip()\n",
    "print(\"string5_rstrip:{0:s}\".format(string5_rstrip))\n",
    "# strip函数：从字符串两端删除空格字符\n",
    "string5_strip = string5.strip()\n",
    "print(\"string5_strip:{0:s}\".format(string5_strip))\n",
    "\n",
    "string6 = \"$$Here's another string that has unwanted characters.__--++\"\n",
    "print(\"string6: {0:s}\".format(string6))\n",
    "# strip函数：从字符串两端删除指定字符\n",
    "string6_strip = string6.strip('$_-+')\n",
    "print(\"string6_strip: {0:s}\".format(string6_strip))\n"
   ]
  },
  {
   "cell_type": "code",
   "execution_count": 20,
   "metadata": {},
   "outputs": [
    {
     "name": "stdout",
     "output_type": "stream",
     "text": [
      "string7: Let's replace the speces in this sentence with other characters.\n",
      "string7_replace: Let's,replace,the,speces,in,this,sentence,with,other,characters.\n",
      "string7_replace: Let's && replace && the && speces && in && this && sentence && with && other && characters.\n"
     ]
    }
   ],
   "source": [
    "# replace:字符串替换函数\n",
    "string7 = \"Let's replace the speces in this sentence with other characters.\"\n",
    "print(\"string7: {0:s}\".format(string7))\n",
    "# 将字符串中的空格用逗号替代\n",
    "string7_replace = string7.replace(\" \", ',')\n",
    "print(\"string7_replace: {0:s}\".format(string7_replace))\n",
    "# 将字符串中的空格用字符串“&&”替代\n",
    "string7_replace = string7.replace(\" \", ' && ')\n",
    "print(\"string7_replace: {0:s}\".format(string7_replace))"
   ]
  },
  {
   "cell_type": "code",
   "execution_count": 21,
   "metadata": {},
   "outputs": [
    {
     "name": "stdout",
     "output_type": "stream",
     "text": [
      "string8: Here's WHAT Happens When You Use lower.\n",
      "string8_lower: here's what happens when you use lower.\n",
      "string8_upper: HERE'S WHAT HAPPENS WHEN YOU USE LOWER.\n",
      "String8_list:  [\"Here's\", 'WHAT', 'Happens', 'When', 'You', 'Use', 'lower.']\n",
      "str capitalize: Here's\n",
      "str capitalize: What\n",
      "str capitalize: Happens\n",
      "str capitalize: When\n",
      "str capitalize: You\n",
      "str capitalize: Use\n",
      "str capitalize: Lower.\n"
     ]
    }
   ],
   "source": [
    "# lower、upper、capitalize\n",
    "string8 = \"Here's WHAT Happens When You Use lower.\"\n",
    "print(\"string8: {0:s}\".format(string8))\n",
    "# lower将字符串中的大写字母转换为小写字母\n",
    "string8_lower = string8.lower()\n",
    "print(\"string8_lower: {0:s}\".format(string8_lower))\n",
    "# upper将字符串中的小些字母转换为大写字母\n",
    "string8_upper = string8.upper()\n",
    "print(\"string8_upper: {0:s}\".format(string8_upper))\n",
    "\n",
    "string8_list = string8.split()\n",
    "print(\"String8_list: \",string8_list)\n",
    "for str_0 in string8_list:\n",
    "    # capitalize 将字符串的的首字母变为大写，其余部分变为小写\n",
    "    str_0 = str_0.capitalize()\n",
    "    print(\"str capitalize:\", str_0)\n",
    "    "
   ]
  },
  {
   "cell_type": "code",
   "execution_count": 24,
   "metadata": {},
   "outputs": [
    {
     "name": "stdout",
     "output_type": "stream",
     "text": [
      "outout: today: 2021-11-07\n",
      "output: year: 2021\n",
      "output: month: 11\n",
      "output: month: <built-in method weekday of datetime.date object at 0x7f93544408b0>\n",
      "output: day: 7\n",
      "output: current_time: 2021-11-07 18:02:16.941079\n",
      "output hour:18\n",
      "output minute:2\n",
      "-1 day, 0:00:00\n",
      "output yesterday:2021-11-06\n",
      "-1\n",
      "output: after 10 days is :2021-11-17\n",
      "output date_diff:-1 day, 0:00:00\n",
      "output: 11/07/2021/\n",
      "output: 2021-11-07\n",
      "output: Nov 07,2021\n",
      "output: November 07,2021\n"
     ]
    }
   ],
   "source": [
    "# 日期date, datetime\n",
    "from datetime import date, time, datetime, timedelta\n",
    "# date 打印出今天的日期形式，以及年月日\n",
    "today = date.today()\n",
    "print(\"outout: today: {0!s}\".format(today))\n",
    "# 年\n",
    "print(\"output: year: {0!s}\".format(today.year))\n",
    "# 月\n",
    "print(\"output: month: {0!s}\".format(today.month))\n",
    "# 周\n",
    "print(\"output: month: {0!s}\".format(today.weekday))\n",
    "# 日\n",
    "print(\"output: day: {0!s}\".format(today.day))\n",
    "# datetime\n",
    "current_time = datetime.today()\n",
    "print(\"output: current_time: {0!s}\".format(current_time))\n",
    "# 时\n",
    "hour = current_time.hour\n",
    "print(\"output hour:{0!s}\".format(hour))\n",
    "# 分\n",
    "minute = current_time.minute\n",
    "print(\"output minute:{0!s}\".format(minute))\n",
    "\n",
    "# timedelta:对date对象进行加减操作\n",
    "one_day = timedelta(days=-1)\n",
    "print(one_day)\n",
    "yesterday = today + one_day\n",
    "# 昨天\n",
    "print(\"output yesterday:{0!s}\".format(yesterday))\n",
    "# 以前8小时\n",
    "eight_hours = timedelta(hours=-8)\n",
    "print(eight_hours.days)\n",
    "# 未来10天\n",
    "ten_days = timedelta(days=10)\n",
    "after_10_day = today+ten_days\n",
    "print(\"output: after 10 days is :{0!s}\".format(after_10_day))\n",
    "# 日期差\n",
    "date_diff = yesterday - today\n",
    "print(\"output date_diff:{0!s}\".format(date_diff))\n",
    "#print(\"output {0!s}\".format(str(date_diff).split()[0]))\n",
    "# strftime函数：给日期以特定的格式\n",
    "print(\"output: {0:s}\".format(today.strftime(\"%m/%d/%Y/\")))\n",
    "print(\"output: {0:s}\".format(today.strftime(\"%Y-%m-%d\")))\n",
    "print(\"output: {0:s}\".format(today.strftime(\"%b %d,%Y\")))\n",
    "print(\"output: {0:s}\".format(today.strftime(\"%B %d,%Y\")))"
   ]
  },
  {
   "cell_type": "code",
   "execution_count": null,
   "metadata": {},
   "outputs": [],
   "source": [
    "# 创建列表\n",
    "a_list = [1,2,3,4,5,7,6]\n",
    "print(\"output: {}\".format(a_list))\n",
    "# 列表元素个数：len()\n",
    "print(\"output: a_list has {} elements.\".format(len(a_list)))\n",
    "# 列表元素最大：max()\n",
    "print(\"output: the maximum value in a_list is {}\".format(max(a_list)))\n",
    "# 列表元素最小值：min()\n",
    "print(\"output: the minimum value in a_list is {}\".format(min(a_list)))\n",
    "# 列表中某个元素出现的次数：count()\n",
    "print(\"outout: the element of 5 appear {} times in a_list.\".format(a_list.count(5)))"
   ]
  },
  {
   "cell_type": "code",
   "execution_count": null,
   "metadata": {},
   "outputs": [],
   "source": [
    "# 使用索引访问列表中的特定元素[0]是第一个元素，[-1]是最后一个元素\n",
    "print(\"output: a_list[0] is {}\".format(a_list[0]))\n",
    "print(\"output: a_list[1] is {}\".format(a_list[1]))\n",
    "print(\"output: a_list[-1] is {}\".format(a_list[-1]))\n",
    "print(\"output: a_list[-2] is {}\".format(a_list[-2]))"
   ]
  },
  {
   "cell_type": "code",
   "execution_count": null,
   "metadata": {},
   "outputs": [],
   "source": [
    "# 列表切片\n",
    "print(\"ouput: a_list[0~2] is {}\".format(a_list[0:3]))\n",
    "print(\"ouput: a_list[0~3] is {}\".format(a_list[:3]))\n",
    "print(\"ouput: a_list[1~7] is {}\".format(a_list[1:]))"
   ]
  },
  {
   "cell_type": "code",
   "execution_count": null,
   "metadata": {},
   "outputs": [],
   "source": [
    "# 列表复制:  [:]\n",
    "# a_new_list = a_list[:]\n",
    "a_new_list = a_list[:]\n",
    "# a_new_list = a_list.copy()\n",
    "print(\"output: new list is {}\".format(a_new_list))"
   ]
  },
  {
   "cell_type": "code",
   "execution_count": null,
   "metadata": {},
   "outputs": [],
   "source": [
    "# 列表连接: +\n",
    "one_list = [1, 2, 3]\n",
    "second_list = [4, 5, 6]\n",
    "add_list = one_list + second_list\n",
    "print(add_list)"
   ]
  },
  {
   "cell_type": "code",
   "execution_count": null,
   "metadata": {},
   "outputs": [],
   "source": [
    "# 使用in和not in检查列表中是否有特定元素\n",
    "a = 7\n",
    "if a in add_list:\n",
    "    print(\"output: {} is in {}\".format(a, add_list))\n",
    "else:\n",
    "    print(\"output: {} is not in {}\".format(a, add_list))"
   ]
  },
  {
   "cell_type": "code",
   "execution_count": null,
   "metadata": {},
   "outputs": [],
   "source": [
    "# 追加、删除和弹出元素\n",
    "test_list = [1, 3, 5, 7, 9]\n",
    "# 追加：append\n",
    "test_list.append(2)\n",
    "print(\"output test_list append '2' is {}\".format(test_list))\n",
    "\n",
    "# 删除：remove\n",
    "if 3 in test_list:\n",
    "    test_list.remove(3)\n",
    "else:\n",
    "    print(\"3 is not in test_list.\")\n",
    "print(\"output test_list append '3' is {}\".format(test_list))\n",
    "\n",
    "# 从末尾弹出元素：pop\n",
    "test_list.pop()\n",
    "print(\"output test_list pop is {}\".format(test_list))"
   ]
  },
  {
   "cell_type": "code",
   "execution_count": null,
   "metadata": {},
   "outputs": [],
   "source": [
    "test_list = [3, 1, 2, 5, 4]\n",
    "# 列表反转\n",
    "test_list.reverse()\n",
    "print(\"test_list reverse is:{}\".format(test_list))\n",
    "\n",
    "#列表排序:sort\n",
    "test_list.sort()\n",
    "print(\"test_list sort is:{}\".format(test_list))"
   ]
  },
  {
   "cell_type": "code",
   "execution_count": null,
   "metadata": {},
   "outputs": [],
   "source": [
    "a = list()\n",
    "print(type(a))\n",
    "print(\"a size is {}\".format(a.__sizeof__()))\n",
    "# 元组\n",
    "b = tuple()\n",
    "print(type(b))\n",
    "print(\"b size is {}\".format(b.__sizeof__()))"
   ]
  },
  {
   "cell_type": "code",
   "execution_count": null,
   "metadata": {},
   "outputs": [],
   "source": [
    "# 创建元组\n",
    "my_tuple = ('x', 'y', 'z')\n",
    "print(type(my_tuple))\n",
    "print(my_tuple)\n",
    "print(\"my_tuple len is {}\".format(len(my_tuple)))\n",
    "long_tuple = my_tuple + my_tuple\n",
    "print(\"long_tuple:{}\".format(long_tuple))\n",
    "# 元组转换成列表\n",
    "tuple_2_list = list(my_tuple)\n",
    "print(type(tuple_2_list))\n",
    "print(\"tuple_2_list:{}\".format(tuple_2_list))\n",
    "# 列表转换成元组\n",
    "list_2_tuple = tuple(tuple_2_list)\n",
    "print(type(list_2_tuple))\n",
    "print(\"list_2_tuple:{}\".format(list_2_tuple))"
   ]
  },
  {
   "cell_type": "code",
   "execution_count": null,
   "metadata": {},
   "outputs": [],
   "source": [
    "# 字典\n",
    "# 创建字典\n",
    "# 方式1\n",
    "emputy_dict = {}\n",
    "# 方式2\n",
    "emputy_dict = dict()\n",
    "print(type(emputy_dict))\n",
    "\n",
    "a_dict = {'one':1, 'two':2, 'three':3}\n",
    "print(\"a_dict is {}\".format(a_dict))\n",
    "\n",
    "print(\"a_dict has {} elements.\".format(len(a_dict)))"
   ]
  },
  {
   "cell_type": "code",
   "execution_count": null,
   "metadata": {},
   "outputs": [],
   "source": [
    "# 使用键引用字典中的值\n",
    "print(\"the value of sencond element is {!s}\".format(a_dict['two']))"
   ]
  },
  {
   "cell_type": "code",
   "execution_count": null,
   "metadata": {},
   "outputs": [],
   "source": [
    "# 字典复制\n",
    "a_new_dict = a_dict.copy()\n",
    "print(\"a_new_dict is {}\".format(a_new_dict))"
   ]
  },
  {
   "cell_type": "code",
   "execution_count": null,
   "metadata": {},
   "outputs": [],
   "source": [
    "# 键、值\n",
    "keys = a_dict.keys()\n",
    "print(type(keys))\n",
    "print(\"key:{}\".format(keys))\n",
    "values = a_dict.values()\n",
    "print(\"values: {}\".format(values))\n",
    "items = a_dict.items()\n",
    "print(type(items))\n",
    "print(\"items: {}\".format(items))"
   ]
  },
  {
   "cell_type": "code",
   "execution_count": null,
   "metadata": {},
   "outputs": [],
   "source": [
    "# 使用in、not in和get\n",
    "a = 'two'\n",
    "if a in a_dict:\n",
    "    print(\"{!s} is a key in {}.\".format(a, a_dict))\n",
    "    print(\"the value of {:s} is {!s}\".format(a, a_dict.get(a)))\n",
    "else:\n",
    "    print(\"{!s} is not a key in {}.\".format(a, a_dict))"
   ]
  },
  {
   "cell_type": "code",
   "execution_count": null,
   "metadata": {},
   "outputs": [],
   "source": [
    "# 字典排序：sorted()\n",
    "a_dict = {'one':1, 'two':2, 'three':3, 'aero': 0}\n",
    "dict_copy = a_dict.copy()\n",
    "# 按照键升序排列\n",
    "sorted_dict1 = sorted(dict_copy.items(), key=lambda item: item[0])\n",
    "print(\"sorted_dict1: {}\".format(sorted_dict1))\n",
    "# 按照值升序排列\n",
    "sorted_dict2 = sorted(dict_copy.items(), key=lambda item: item[1], reverse=False)\n",
    "print(\"sorted_dict2: {}\".format(sorted_dict2))\n",
    "#  按照值降序排列\n",
    "sorted_dict3 = sorted(dict_copy.items(), key=lambda item: item[1], reverse=True)\n",
    "print(\"sorted_dict3: {}\".format(sorted_dict3))"
   ]
  },
  {
   "cell_type": "code",
   "execution_count": null,
   "metadata": {},
   "outputs": [],
   "source": [
    "# 异常\n",
    "def germean(numericValues):\n",
    "    return sum(numericValues) / len(numericValues)\n",
    "\n",
    "\n",
    "# test_list1 = [1, 2, 3, 4, 5, 6]\n",
    "test_list1 = []\n",
    "try:\n",
    "    mean_value = germean(test_list1)\n",
    "    print(\"mean_value:{}\".format(mean_value))\n",
    "except ZeroDivisionError as detail:\n",
    "    print(\"Error:{}\".format(detail)) "
   ]
  },
  {
   "cell_type": "code",
   "execution_count": 12,
   "metadata": {},
   "outputs": [
    {
     "name": "stdout",
     "output_type": "stream",
     "text": [
      "Python\n",
      "Hello\tworld\n"
     ]
    }
   ],
   "source": [
    "import sys\n",
    "filename = \"./out/test.txt\"\n",
    "# 写文件\n",
    "file_write = open(filename, 'w')\n",
    "file_write.write(\"Python\"+'\\n')\n",
    "file_write.write(\"Hello\"+'\\t')\n",
    "file_write.write(\"world\"+'\\t')\n",
    "file_write.close()\n",
    "# 读文件\n",
    "file_read = open(filename, 'r')\n",
    "for row in file_read:\n",
    "    print(row.strip())\n",
    "file_read.close()"
   ]
  },
  {
   "cell_type": "code",
   "execution_count": 13,
   "metadata": {},
   "outputs": [],
   "source": [
    "# 写入csv文件\n",
    "csvfile = \"./out/test.csv\"\n",
    "my_number = ['H','E','L','L','O']\n",
    "file = open(csvfile, 'w')\n",
    "for index in range(len(my_number)):\n",
    "    file.write(my_number[index] + ',')\n",
    "file.close()"
   ]
  }
 ],
 "metadata": {
  "kernelspec": {
   "display_name": "Python 3",
   "language": "python",
   "name": "python3"
  },
  "language_info": {
   "codemirror_mode": {
    "name": "ipython",
    "version": 3
   },
   "file_extension": ".py",
   "mimetype": "text/x-python",
   "name": "python",
   "nbconvert_exporter": "python",
   "pygments_lexer": "ipython3",
   "version": "3.8.5"
  }
 },
 "nbformat": 4,
 "nbformat_minor": 4
}
