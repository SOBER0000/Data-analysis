{
 "cells": [
  {
   "cell_type": "code",
   "execution_count": 35,
   "metadata": {},
   "outputs": [
    {
     "name": "stdout",
     "output_type": "stream",
     "text": [
      "['branch', 'Cost', 'date']\n"
     ]
    }
   ],
   "source": [
    "# 读写csv\n",
    "# python文件操作实现\n",
    "title = ['branch', 'Cost', 'date']\n",
    "list =  ['apple','$500.00','10/27/2021']\n",
    "list1 = ['huawei','$100.00','10/28/2021']\n",
    "list2 = ['oppo','$200.00','10/29/2021']\n",
    "list3 = ['vivi','$600.00','10/30/2021']\n",
    "list4 = ['xiaomi','$700.00','10/31/2021']\n",
    "\n",
    "inputfile = './csv/input.csv'\n",
    "out_file = './csv/out_file.csv'\n",
    "\n",
    "with open(inputfile, 'w',newline='') as filewriter:\n",
    "    filewriter.write(\",\".join(title)+'\\n')\n",
    "    filewriter.write(\",\".join(list)+'\\n')\n",
    "    filewriter.write(\",\".join(list1)+'\\n')\n",
    "    filewriter.write(\",\".join(list2)+'\\n')\n",
    "    filewriter.write(\",\".join(list3)+'\\n')\n",
    "    filewriter.write(\",\".join(list4)+'\\n')\n",
    "    \n",
    "with open(inputfile, 'r', newline='') as filereader:\n",
    "    header = filereader.readline()\n",
    "    header = header.strip()\n",
    "    header_list = header.split(',')\n",
    "    print(header_list)"
   ]
  },
  {
   "cell_type": "code",
   "execution_count": 36,
   "metadata": {},
   "outputs": [
    {
     "name": "stdout",
     "output_type": "stream",
     "text": [
      "   branch     Cost        date\n",
      "0   apple  $500.00  10/27/2021\n",
      "1  huawei  $100.00  10/28/2021\n",
      "2    oppo  $200.00  10/29/2021\n",
      "3    vivi  $600.00  10/30/2021\n",
      "4  xiaomi  $700.00  10/31/2021\n"
     ]
    }
   ],
   "source": [
    "# 读写csv\n",
    "# pandas实现(无法处理数值中嵌入的‘,’符号)\n",
    "import pandas as pd\n",
    "\n",
    "data = pd.read_csv(inputfile)\n",
    "# print(type(data))\n",
    "# print(data)\n",
    "outfile = './csv/out.csv'\n",
    "data.to_csv(outfile, index=False)\n",
    "out = pd.read_csv(outfile)\n",
    "print(out)"
   ]
  },
  {
   "cell_type": "code",
   "execution_count": 21,
   "metadata": {},
   "outputs": [
    {
     "name": "stdout",
     "output_type": "stream",
     "text": [
      "['branch', 'Cost', 'date']\n",
      "['apple', '$500.00', '10/27/2021']\n",
      "['huawei', '$100.00', '10/28/2021']\n",
      "['oppo', '$200.00', '10/29/2021']\n",
      "['vivi', '$600.00', '10/30/2021']\n",
      "['xiaomi', '$700.00', '10/31/2021']\n"
     ]
    }
   ],
   "source": [
    "# 读写csv \n",
    "# python的csv模块实现（优点：可以正确处理数值中的嵌入逗号和其他复杂模式）\n",
    "import csv\n",
    "\n",
    "with open(inputfile, 'r', newline='') as csv_reader:\n",
    "    with open(outfile, 'w', newline='') as csv_wirter:\n",
    "        fileread = csv.reader(csv_reader, delimiter=',') # 为何csv不能过滤数值中的逗号？\n",
    "        filewrite = csv.writer(csv_wirter, delimiter=',')\n",
    "        for row_list in fileread:\n",
    "            print(row_list)\n",
    "            filewrite.writerow(row_list)\n",
    "            "
   ]
  },
  {
   "cell_type": "code",
   "execution_count": 22,
   "metadata": {},
   "outputs": [
    {
     "name": "stdout",
     "output_type": "stream",
     "text": [
      "   branch     Cost        date\n",
      "0   apple  $500.00  10/27/2021\n",
      "1  huawei  $100.00  10/28/2021\n",
      "2    oppo  $200.00  10/29/2021\n",
      "3    vivi  $600.00  10/30/2021\n",
      "4  xiaomi  $700.00  10/31/2021\n",
      "   branch     Cost        date   cost\n",
      "0   apple  $500.00  10/27/2021  500.0\n",
      "1  huawei  $100.00  10/28/2021  100.0\n",
      "2    oppo  $200.00  10/29/2021  200.0\n",
      "3    vivi  $600.00  10/30/2021  600.0\n",
      "4  xiaomi  $700.00  10/31/2021  700.0\n",
      "   branch     Cost        date   cost\n",
      "0   apple  $500.00  10/27/2021  500.0\n",
      "1  huawei  $100.00  10/28/2021  100.0\n",
      "4  xiaomi  $700.00  10/31/2021  700.0\n"
     ]
    }
   ],
   "source": [
    "# 筛选满足条件的行 \n",
    "# pandas处理 loc[]:可以同时选择特定的行与列\n",
    "import pandas as pd\n",
    "\n",
    "read_data = pd.read_csv(inputfile)\n",
    "print(read_data)\n",
    "read_data['cost'] = read_data['Cost'].str.strip('$').astype(float)\n",
    "print(read_data)\n",
    "meet_condation = read_data.loc[read_data['branch'].str.contains('a')]\n",
    "print(meet_condation)\n",
    "meet_condation[['branch','cost']].to_csv('./csv/meet_condition.csv', index=False)"
   ]
  },
  {
   "cell_type": "code",
   "execution_count": 23,
   "metadata": {},
   "outputs": [
    {
     "name": "stdout",
     "output_type": "stream",
     "text": [
      "['apple', '$500.00', '10/27/2021']\n",
      "['huawei', '$100.00', '10/28/2021']\n",
      "['oppo', '$200.00', '10/29/2021']\n",
      "['vivi', '$600.00', '10/30/2021']\n",
      "['xiaomi', '$700.00', '10/31/2021']\n"
     ]
    }
   ],
   "source": [
    "# 行中的值是否属于某个集合\n",
    "# python处理\n",
    "import csv\n",
    "\n",
    "important_date = ['10/27/2021', '10/28/2021']\n",
    "\n",
    "with open(inputfile, 'r', newline='') as file_reader:\n",
    "    with open(out_file, 'w', newline='') as file_writer:\n",
    "        file_read = csv.reader(file_reader)\n",
    "        file_write = csv.writer(file_writer)\n",
    "        header = next(file_read)\n",
    "        for list_row in file_read:\n",
    "            print(list_row)\n",
    "            if list_row[2] in important_date:\n",
    "                file_write.writerow(list_row)"
   ]
  },
  {
   "cell_type": "code",
   "execution_count": 24,
   "metadata": {},
   "outputs": [
    {
     "name": "stdout",
     "output_type": "stream",
     "text": [
      "   branch     Cost        date\n",
      "0   apple  $500.00  10/27/2021\n",
      "1  huawei  $100.00  10/28/2021\n",
      "2    oppo  $200.00  10/29/2021\n",
      "3    vivi  $600.00  10/30/2021\n",
      "4  xiaomi  $700.00  10/31/2021\n",
      "  branch     Cost        date\n",
      "2   oppo  $200.00  10/29/2021\n",
      "3   vivi  $600.00  10/30/2021\n"
     ]
    }
   ],
   "source": [
    "# 行中的值是否属于某个集合\n",
    "# pandas处理 isin()\n",
    "import pandas as pd\n",
    "\n",
    "important_date = ['10/29/2021', '10/30/2021']\n",
    "\n",
    "read_data = pd.read_csv(inputfile)\n",
    "print(read_data)\n",
    "isin_list = read_data.loc[read_data['date'].isin(important_date)]\n",
    "print(isin_list)"
   ]
  },
  {
   "cell_type": "code",
   "execution_count": 25,
   "metadata": {},
   "outputs": [
    {
     "name": "stdout",
     "output_type": "stream",
     "text": [
      "['branch', 'Cost', 'date']\n",
      "['apple', '$500.00', '10/27/2021']\n",
      "['huawei', '$100.00', '10/28/2021']\n",
      "['oppo', '$200.00', '10/29/2021']\n",
      "['vivi', '$600.00', '10/30/2021']\n",
      "['xiaomi', '$700.00', '10/31/2021']\n"
     ]
    }
   ],
   "source": [
    "# 选取特定的列\n",
    "# python 列表索引实现\n",
    "import csv\n",
    "\n",
    "select_columns_index = [0,2]\n",
    "select_columns_data = []\n",
    "\n",
    "with open(inputfile, 'r', newline='') as file_reader:\n",
    "    with open(out_file, 'w', newline='') as file_writer:\n",
    "        file_read = csv.reader(file_reader)\n",
    "        file_write = csv.writer(file_writer)\n",
    "        for row_list in file_read:\n",
    "            print(row_list)\n",
    "            for column_index in select_columns_index:\n",
    "                select_columns_data.append(row_list[column_index])\n",
    "            file_write.writerow(select_columns_data)  \n",
    "            select_columns_data.clear()      "
   ]
  },
  {
   "cell_type": "code",
   "execution_count": 26,
   "metadata": {},
   "outputs": [
    {
     "name": "stdout",
     "output_type": "stream",
     "text": [
      "   branch     Cost\n",
      "0   apple  $500.00\n",
      "1  huawei  $100.00\n",
      "2    oppo  $200.00\n",
      "3    vivi  $600.00\n",
      "4  xiaomi  $700.00\n"
     ]
    }
   ],
   "source": [
    "# 选取特定的列\n",
    "# pandas: iloc() 根据列索引位置选取列\n",
    "import pandas as pd\n",
    "\n",
    "read_data = pd.read_csv(inputfile)\n",
    "select_columns_data = read_data.iloc[:,[0,1]]\n",
    "print(select_columns_data)\n",
    "select_columns_data.to_csv(out_file, index=False)"
   ]
  },
  {
   "cell_type": "code",
   "execution_count": 27,
   "metadata": {},
   "outputs": [
    {
     "name": "stdout",
     "output_type": "stream",
     "text": [
      "['apple', '$500.00']\n",
      "['huawei', '$100.00']\n",
      "['oppo', '$200.00']\n",
      "['vivi', '$600.00']\n",
      "['xiaomi', '$700.00']\n"
     ]
    }
   ],
   "source": [
    "# 选取特定的列\n",
    "# python 列标题实现\n",
    "import csv\n",
    "\n",
    "columns_title = ['branch', 'Cost']\n",
    "select_columns_data = []\n",
    "\n",
    "with open(inputfile, 'r', newline='') as file_reader:\n",
    "    with open(out_file, 'w', newline='') as file_writer:\n",
    "        file_read = csv.reader(file_reader)\n",
    "        file_write = csv.writer(file_writer)\n",
    "        header = next(file_read)\n",
    "        # print(header)\n",
    "        select_column_index = []\n",
    "        for column_index in range(len(header)):\n",
    "            if header[column_index] in columns_title:\n",
    "                select_column_index.append(column_index)\n",
    "        file_write.writerow(columns_title)\n",
    "        for row_list in file_read:\n",
    "            row_list_out = []\n",
    "            for index in select_column_index:\n",
    "                row_list_out.append(row_list[index])\n",
    "            file_write.writerow(row_list_out)\n",
    "            print(row_list_out)\n",
    "            row_list_out.clear()"
   ]
  },
  {
   "cell_type": "code",
   "execution_count": 28,
   "metadata": {},
   "outputs": [
    {
     "name": "stdout",
     "output_type": "stream",
     "text": [
      "   branch     Cost        date\n",
      "0   apple  $500.00  10/27/2021\n",
      "1  huawei  $100.00  10/28/2021\n",
      "2    oppo  $200.00  10/29/2021\n",
      "3    vivi  $600.00  10/30/2021\n",
      "4  xiaomi  $700.00  10/31/2021\n",
      "   branch        date\n",
      "0   apple  10/27/2021\n",
      "1  huawei  10/28/2021\n",
      "2    oppo  10/29/2021\n",
      "3    vivi  10/30/2021\n",
      "4  xiaomi  10/31/2021\n"
     ]
    }
   ],
   "source": [
    "# 选取特定的列\n",
    "# pandas: loc[] 根据列标题选取列\n",
    "import pandas as pd\n",
    "\n",
    "read_data = pd.read_csv(inputfile)\n",
    "print(read_data)\n",
    "column_data = read_data.loc[:,['branch', 'date']]\n",
    "print(column_data)\n",
    "column_data.to_csv(out_file, index=False)"
   ]
  },
  {
   "cell_type": "code",
   "execution_count": 29,
   "metadata": {},
   "outputs": [],
   "source": [
    "# 新建输入文件\n",
    "input_file = './csv/input_file.csv'\n",
    "\n",
    "title = ['branch', 'Cost', 'date']\n",
    "list =  ['apple','$500.00','10/27/2021']\n",
    "list1 = ['huawei','$100.00','10/28/2021']\n",
    "list2 = ['oppo','$200.00','10/29/2021']\n",
    "list3 = ['vivi','$600.00','10/30/2021']\n",
    "list4 = ['xiaomi','$700.00','10/31/2021']\n",
    "\n",
    "with open(input_file, 'w',newline='') as filewriter:\n",
    "    #filewriter.write(\"I don't case this row,\"+'\\n')\n",
    "    #filewriter.write(\"I don't case this row,\"+'\\n')\n",
    "    #filewriter.write(\"I don't case this row,\"+'\\n')\n",
    "    filewriter.write(\",\".join(title)+'\\n')\n",
    "    filewriter.write(\",\".join(list)+'\\n')\n",
    "    filewriter.write(\",\".join(list1)+'\\n')\n",
    "    filewriter.write(\",\".join(list2)+'\\n')\n",
    "    filewriter.write(\",\".join(list3)+'\\n')\n",
    "    filewriter.write(\",\".join(list4)+'\\n')\n",
    "    filewriter.write(\"I don't case this row,\"+'\\n')\n",
    "    filewriter.write(\"I don't case this row,\"+'\\n')\n",
    "    filewriter.write(\"I don't case this row,\"+'\\n')"
   ]
  },
  {
   "cell_type": "code",
   "execution_count": 30,
   "metadata": {},
   "outputs": [
    {
     "name": "stdout",
     "output_type": "stream",
     "text": [
      "['branch', 'Cost', 'date']\n",
      "['apple', '$500.00', '10/27/2021']\n",
      "['huawei', '$100.00', '10/28/2021']\n",
      "['oppo', '$200.00', '10/29/2021']\n",
      "['vivi', '$600.00', '10/30/2021']\n",
      "['xiaomi', '$700.00', '10/31/2021']\n",
      "[\"I don't case this row\", '']\n",
      "[\"I don't case this row\", '']\n",
      "[\"I don't case this row\", '']\n"
     ]
    }
   ],
   "source": [
    "# 选取连续的行\n",
    "# 基础python代码实现\n",
    "\n",
    "select_row_count = 0\n",
    "\n",
    "with open(input_file, 'r', newline='') as file_reader:\n",
    "    with open(out_file, 'w', newline='') as file_writer:\n",
    "        file_read = csv.reader(file_reader)\n",
    "        file_write = csv.writer(file_writer)\n",
    "        for row_list in file_read:\n",
    "            print(row_list)\n",
    "            if select_row_count > 2 and select_row_count < 9:\n",
    "                file_write.writerow(row_list)\n",
    "            select_row_count += 1"
   ]
  },
  {
   "cell_type": "code",
   "execution_count": 31,
   "metadata": {},
   "outputs": [],
   "source": [
    "# 选取连续的行\n",
    "# pandas：drop() 根据行索引或列标题来丢弃行或列\n",
    "import pandas as pd\n",
    "\n",
    "read_data = pd.read_csv(input_file, header=None)\n",
    "# print(read_data)\n",
    "select_data = read_data.drop([6,7,8])\n",
    "select_data.columns = select_data.iloc[0] # 根据行索引选取一个单独行作为列索引\n",
    "select_data = select_data.reindex(select_data.index.drop(3))\n",
    "select_data.to_csv(out_file, index=False)"
   ]
  },
  {
   "cell_type": "code",
   "execution_count": 32,
   "metadata": {},
   "outputs": [
    {
     "name": "stdout",
     "output_type": "stream",
     "text": [
      "['apple', '$500.00', '10/27/2021']\n",
      "['huawei', '$100.00', '10/28/2021']\n",
      "['oppo', '$200.00', '10/29/2021']\n",
      "['vivi', '$600.00', '10/30/2021']\n",
      "['xiaomi', '$700.00', '10/31/2021']\n"
     ]
    }
   ],
   "source": [
    "# 添加标题行\n",
    "# 基础python实现\n",
    "# 新建输入文件\n",
    "import csv\n",
    "\n",
    "input_file = './csv/input_file.csv'\n",
    "\n",
    "title = ['branch', 'Cost', 'date']\n",
    "list =  ['apple','$500.00','10/27/2021']\n",
    "list1 = ['huawei','$100.00','10/28/2021']\n",
    "list2 = ['oppo','$200.00','10/29/2021']\n",
    "list3 = ['vivi','$600.00','10/30/2021']\n",
    "list4 = ['xiaomi','$700.00','10/31/2021']\n",
    "\n",
    "with open(input_file, 'w',newline='') as filewriter:\n",
    "    filewriter.write(\",\".join(list)+'\\n')\n",
    "    filewriter.write(\",\".join(list1)+'\\n')\n",
    "    filewriter.write(\",\".join(list2)+'\\n')\n",
    "    filewriter.write(\",\".join(list3)+'\\n')\n",
    "    filewriter.write(\",\".join(list4)+'\\n')\n",
    "    filewriter.close()\n",
    "\n",
    "with open(input_file, 'r', newline='') as file_reader:\n",
    "    with open(out_file, 'w', newline='') as file_writer:\n",
    "        file_read = csv.reader(file_reader)\n",
    "        file_write = csv.writer(file_writer)\n",
    "        header_list = ['branch', 'Cost', 'date']\n",
    "        file_write.writerow(header_list)\n",
    "        for row_list in file_read:\n",
    "            print(row_list)\n",
    "            file_write.writerow(row_list)"
   ]
  },
  {
   "cell_type": "code",
   "execution_count": 33,
   "metadata": {},
   "outputs": [
    {
     "name": "stdout",
     "output_type": "stream",
     "text": [
      "   branch     Cost        date\n",
      "0   apple  $500.00  10/27/2021\n",
      "1  huawei  $100.00  10/28/2021\n",
      "2    oppo  $200.00  10/29/2021\n",
      "3    vivi  $600.00  10/30/2021\n",
      "4  xiaomi  $700.00  10/31/2021\n"
     ]
    }
   ],
   "source": [
    "# 添加标题行\n",
    "# pandas实现\n",
    "import pandas as pd\n",
    "\n",
    "header_list = ['branch', 'Cost', 'date']\n",
    "read_data = pd.read_csv(input_file, header=None, names=header_list)\n",
    "print(read_data)\n",
    "read_data.to_csv(out_file)"
   ]
  },
  {
   "cell_type": "code",
   "execution_count": 34,
   "metadata": {},
   "outputs": [
    {
     "name": "stdout",
     "output_type": "stream",
     "text": [
      "[./csv/early_july.csv]'s row_count is 8\n",
      "[./csv/early_july.csv]'s column_count is 7\n",
      "[./csv/mid_july.csv]'s row_count is 8\n",
      "[./csv/mid_july.csv]'s column_count is 7\n"
     ]
    },
    {
     "ename": "FileNotFoundError",
     "evalue": "[Errno 2] No such file or directory: './late_july.csv'",
     "output_type": "error",
     "traceback": [
      "\u001b[0;31m---------------------------------------------------------------------------\u001b[0m",
      "\u001b[0;31mFileNotFoundError\u001b[0m                         Traceback (most recent call last)",
      "\u001b[0;32m<ipython-input-34-2944e522aa7d>\u001b[0m in \u001b[0;36m<module>\u001b[0;34m\u001b[0m\n\u001b[1;32m      8\u001b[0m \u001b[0;32mfor\u001b[0m \u001b[0mfile\u001b[0m \u001b[0;32min\u001b[0m \u001b[0minput_path\u001b[0m\u001b[0;34m:\u001b[0m\u001b[0;34m\u001b[0m\u001b[0;34m\u001b[0m\u001b[0m\n\u001b[1;32m      9\u001b[0m     \u001b[0;31m# print(file)\u001b[0m\u001b[0;34m\u001b[0m\u001b[0;34m\u001b[0m\u001b[0;34m\u001b[0m\u001b[0m\n\u001b[0;32m---> 10\u001b[0;31m     \u001b[0;32mwith\u001b[0m \u001b[0mopen\u001b[0m\u001b[0;34m(\u001b[0m\u001b[0mfile\u001b[0m\u001b[0;34m,\u001b[0m \u001b[0;34m'r'\u001b[0m\u001b[0;34m,\u001b[0m \u001b[0mnewline\u001b[0m\u001b[0;34m=\u001b[0m\u001b[0;34m''\u001b[0m\u001b[0;34m)\u001b[0m \u001b[0;32mas\u001b[0m \u001b[0mfile_reader\u001b[0m\u001b[0;34m:\u001b[0m\u001b[0;34m\u001b[0m\u001b[0;34m\u001b[0m\u001b[0m\n\u001b[0m\u001b[1;32m     11\u001b[0m         \u001b[0mrow_count\u001b[0m \u001b[0;34m=\u001b[0m \u001b[0;36m1\u001b[0m\u001b[0;34m\u001b[0m\u001b[0;34m\u001b[0m\u001b[0m\n\u001b[1;32m     12\u001b[0m         \u001b[0mfilereader\u001b[0m \u001b[0;34m=\u001b[0m \u001b[0mcsv\u001b[0m\u001b[0;34m.\u001b[0m\u001b[0mreader\u001b[0m\u001b[0;34m(\u001b[0m\u001b[0mfile_reader\u001b[0m\u001b[0;34m)\u001b[0m\u001b[0;34m\u001b[0m\u001b[0;34m\u001b[0m\u001b[0m\n",
      "\u001b[0;31mFileNotFoundError\u001b[0m: [Errno 2] No such file or directory: './late_july.csv'"
     ]
    }
   ],
   "source": [
    "# 读取多个csv文件\n",
    "# 文件计数与文件中的行列计数\n",
    "import csv\n",
    "\n",
    "input_path = ['./csv/early_july.csv', './csv/mid_july.csv', './late_july.csv']\n",
    "file_count = 0\n",
    "\n",
    "for file in input_path:\n",
    "    # print(file)\n",
    "    with open(file, 'r', newline='') as file_reader:\n",
    "        row_count = 1\n",
    "        filereader = csv.reader(file_reader)\n",
    "        header = next(filereader)\n",
    "        for row_list in filereader:\n",
    "            # print(row_list)\n",
    "            row_count += 1\n",
    "        print(\"[{0:s}]'s row_count is {1!s}\".format(input_path[file_count], row_count))\n",
    "        print(\"[{0:s}]'s column_count is {1!s}\".format(input_path[file_count], len(header)))\n",
    "        file_count += 1\n",
    "print(\"file count is {0!s}\".format(file_count))"
   ]
  },
  {
   "cell_type": "code",
   "execution_count": null,
   "metadata": {},
   "outputs": [],
   "source": [
    "# 从多个文件中连接数据\n",
    "# python实现\n",
    "import csv\n",
    "\n",
    "files_path = ['./csv/early_july.csv', './csv/mid_july.csv', './csv/late_july.csv']\n",
    "total_july_file = './csv/total_july_file.csv'\n",
    "file_count = 0\n",
    "\n",
    "with open(total_july_file, 'w', newline='') as file_write:\n",
    "    filewriter = csv.writer(file_write)\n",
    "    for file in files_path:\n",
    "        with open(file, 'r', newline='') as file_read:\n",
    "            filereader = csv.reader(file_read)\n",
    "            header = next(filereader,None)\n",
    "            if file_count == 0:\n",
    "                filewriter.writerow(header)\n",
    "            for row_list in filereader:\n",
    "                filewriter.writerow(row_list)\n",
    "            file_count += 1"
   ]
  },
  {
   "cell_type": "code",
   "execution_count": null,
   "metadata": {},
   "outputs": [],
   "source": [
    "# 从多个文件中连接数据\n",
    "# pandas实现 \n",
    "# concat():将所有数据框连成一个数据框\n",
    "import pandas as pd\n",
    "all_data_frame = []\n",
    "files_path = ['./csv/early_july.csv', './csv/mid_july.csv', './csv/late_july.csv']\n",
    "total_july_file = './csv/total_july_file1.csv'\n",
    "for file in files_path:\n",
    "    read_data = pd.read_csv(file)\n",
    "    all_data_frame.append(read_data)\n",
    "# axis=0:垂直堆叠数据 axis=1:水平堆叠数据\n",
    "data_frame_concat = pd.concat(all_data_frame, axis=0, ignore_index=True)\n",
    "data_frame_concat.to_csv(total_july_file)\n",
    "print(data_frame_concat)"
   ]
  },
  {
   "cell_type": "code",
   "execution_count": null,
   "metadata": {},
   "outputs": [],
   "source": [
    "# 计算每个文件中值的总和与均值\n",
    "# 基础python\n",
    "# 计算开盘价均值\n",
    "import csv\n",
    "\n",
    "files_path = ['./csv/early_july.csv', './csv/mid_july.csv', './csv/late_july.csv']\n",
    "total_and_average_file = './csv/total_avage_file.csv'\n",
    "header_list = ['file_name', 'total_open_price', 'average_open_price']\n",
    "with open(total_and_average_file, 'w', newline='') as file_wirter:\n",
    "    filewriter = csv.writer(file_wirter)\n",
    "    filewriter.writerow(header_list)\n",
    "    for file in files_path:\n",
    "        out_list = []\n",
    "        total_open_price = 0.00\n",
    "        number_open_price_count = 0\n",
    "        file_read = open(file, 'r', newline='')\n",
    "        filereader = csv.reader(file_read)\n",
    "        header = next(filereader)\n",
    "        out_list.append(file)\n",
    "        for row_list in filereader:\n",
    "            # print(row_list[1])\n",
    "            open_price = row_list[1]\n",
    "            total_open_price += float(open_price)\n",
    "            number_open_price_count += 1\n",
    "        # print(total_open_price)\n",
    "        out_list.append('{0:.2f}'.format(total_open_price))\n",
    "        average_open_price = '{0:.2f}'.format(total_open_price / number_open_price_count)\n",
    "        out_list.append(average_open_price)\n",
    "        filewriter.writerow(out_list)\n",
    "        print(out_list) \n",
    "        "
   ]
  },
  {
   "cell_type": "code",
   "execution_count": null,
   "metadata": {},
   "outputs": [],
   "source": [
    "# 计算每个文件中值的总和与均值\n",
    "# pandas实现\n",
    "# 计算开盘价均值\n",
    "import pandas as pd\n",
    "\n",
    "files_path = ['./csv/early_july.csv', './csv/mid_july.csv', './csv/late_july.csv']\n",
    "total_and_average_file = './csv/total_avage_file.csv'\n",
    "all_data_frames = []\n",
    "\n",
    "for file in files_path:\n",
    "    read_data = pd.read_csv(file, index_col=None)\n",
    "    total_open_price = pd.DataFrame(read_data.iloc[:, [1]]).sum()\n",
    "    average_open_price = pd.DataFrame(read_data.loc[:, 'open']).mean()\n",
    "    data = {'file_name': file,\n",
    "            'total_open_price': '{0:.2f}'.format(total_open_price[0]),\n",
    "            'average_open_price': '{0:.2f}'.format(average_open_price[0])}\n",
    "    #print(data)\n",
    "    all_data_frames.append(pd.DataFrame(data=data, index=[0], columns=['file_name', 'total_open_price', 'average_open_price']))\n",
    "    #print(all_data_frames)\n",
    "    \n",
    "out_data_frame = pd.concat(all_data_frames, axis=0, ignore_index=True)\n",
    "print(out_data_frame)\n",
    "out_data_frame.to_csv(total_and_average_file, index=False)\n",
    "    "
   ]
  }
 ],
 "metadata": {
  "kernelspec": {
   "display_name": "Python 3",
   "language": "python",
   "name": "python3"
  },
  "language_info": {
   "codemirror_mode": {
    "name": "ipython",
    "version": 3
   },
   "file_extension": ".py",
   "mimetype": "text/x-python",
   "name": "python",
   "nbconvert_exporter": "python",
   "pygments_lexer": "ipython3",
   "version": "3.8.5"
  }
 },
 "nbformat": 4,
 "nbformat_minor": 4
}
