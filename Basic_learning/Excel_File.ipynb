{
 "cells": [
  {
   "cell_type": "code",
   "execution_count": 3,
   "metadata": {},
   "outputs": [
    {
     "name": "stdout",
     "output_type": "stream",
     "text": [
      "Numbers of worksheets: 3\n",
      "worksheet name:January_2021\tworksheet rows:7\tworksheet columns: 5\n",
      "worksheet name:february_2021\tworksheet rows:7\tworksheet columns: 5\n",
      "worksheet name:march_2021\tworksheet rows:7\tworksheet columns: 5\n"
     ]
    }
   ],
   "source": [
    "# 内省Excel工作簿(不用Excel打开文件的方式下查看工作簿的详细信息)\n",
    "from xlrd import open_workbook\n",
    "\n",
    "input_excel_file = './Excel/sale.xlsx'\n",
    "workbook = open_workbook(input_excel_file)\n",
    "print(\"Numbers of worksheets: {0!s}\".format(workbook.nsheets))\n",
    "for worksheet in workbook.sheets():\n",
    "    print(\"worksheet name:{0:s}\\tworksheet rows:{1!s}\\tworksheet columns: {2!s}\".format(worksheet.name,                                                                                         worksheet.nrows,\n",
    "                                                                                        worksheet.ncols))"
   ]
  },
  {
   "cell_type": "code",
   "execution_count": 4,
   "metadata": {},
   "outputs": [],
   "source": [
    "# 读写Excel文件\n",
    "# 基础python实现 xlrd、xlwt\n",
    "from xlrd import open_workbook\n",
    "from xlwt import Workbook\n",
    "from xlwt import Worksheet\n",
    "\n",
    "input_excel_file = './Excel/sale.xlsx'\n",
    "output_excel_file = './Excel/out.xls'\n",
    "\n",
    "output_workbook = Workbook()\n",
    "output_worksheet = output_workbook.add_sheet('April_2021')\n",
    "with open_workbook(input_excel_file) as workbook:\n",
    "    worksheet = workbook.sheet_by_name('march_2021')\n",
    "    for row_index in range(worksheet.nrows):\n",
    "        for cols_index in range(worksheet.ncols):\n",
    "            #print(worksheet.cell_value(row_index, cols_index))\n",
    "            output_worksheet.write(row_index, cols_index, worksheet.cell_value(row_index, cols_index))\n",
    "output_workbook.save(output_excel_file)"
   ]
  },
  {
   "cell_type": "code",
   "execution_count": 5,
   "metadata": {},
   "outputs": [],
   "source": [
    "# 读写Excel文件\n",
    "# pandas实现\n",
    "import pandas as pd\n",
    "\n",
    "input_excel_file = './Excel/sale.xlsx'\n",
    "output_excel_file = './Excel/out1.xls'\n",
    "\n",
    "data_frame = pd.read_excel(input_excel_file, sheet_name='march_2021')\n",
    "writer = pd.ExcelWriter(output_excel_file)\n",
    "data_frame.to_excel(writer, sheet_name='May_2021',index=False)\n",
    "writer.save()"
   ]
  }
 ],
 "metadata": {
  "kernelspec": {
   "display_name": "Python 3",
   "language": "python",
   "name": "python3"
  },
  "language_info": {
   "codemirror_mode": {
    "name": "ipython",
    "version": 3
   },
   "file_extension": ".py",
   "mimetype": "text/x-python",
   "name": "python",
   "nbconvert_exporter": "python",
   "pygments_lexer": "ipython3",
   "version": "3.8.5"
  }
 },
 "nbformat": 4,
 "nbformat_minor": 4
}
